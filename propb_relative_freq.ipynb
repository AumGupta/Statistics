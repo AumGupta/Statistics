{
 "cells": [
  {
   "cell_type": "markdown",
   "metadata": {},
   "source": [
    "# Relative Frequency Interpretation of Probability (Aposteriori or Empirical)\n",
    "\n",
    "We are considering the random experiment of tossing a coin.\n",
    "\n",
    "Sample Space $S = \\{H, T\\}$"
   ]
  },
  {
   "cell_type": "code",
   "execution_count": 266,
   "metadata": {},
   "outputs": [],
   "source": [
    "def toss_coin(n:int)-> tuple[int,int]:\n",
    "    \"\"\" \n",
    "    Simulates tossing a coin `n` number of times.\n",
    "    Returns tuple (`H`,`T`), \n",
    "    `H` is number of times Heads came and \n",
    "    `T` is number of times Tails came. \n",
    "    \"\"\"\n",
    "    from random import randint, seed\n",
    "    seed(0)\n",
    "    H_count = 0 # H = 1\n",
    "    T_count = n # T = 0\n",
    "    while n>0:\n",
    "        H_count = H_count+1 if randint(0,1) else H_count\n",
    "        n-=1\n",
    "    return (H_count, T_count - H_count)\n"
   ]
  },
  {
   "cell_type": "code",
   "execution_count": 267,
   "metadata": {},
   "outputs": [
    {
     "name": "stdout",
     "output_type": "stream",
     "text": [
      "n\tH%\tT%\n",
      "10\t80.00%\t20.00%\n",
      "20\t60.00%\t40.00%\n",
      "30\t63.33%\t36.67%\n",
      "40\t57.50%\t42.50%\n",
      "50\t54.00%\t46.00%\n",
      "60\t55.00%\t45.00%\n",
      "70\t51.43%\t48.57%\n",
      "80\t51.25%\t48.75%\n",
      "90\t51.11%\t48.89%\n"
     ]
    }
   ],
   "source": [
    "print(f'n\\tH%\\tT%')\n",
    "for n in range(10,100,10):\n",
    "    H,T = toss_coin(n)\n",
    "    print(f'{n}\\t{(H/n)*100:.2f}%\\t{(T/n)*100:.2f}%')"
   ]
  },
  {
   "cell_type": "code",
   "execution_count": null,
   "metadata": {},
   "outputs": [],
   "source": []
  }
 ],
 "metadata": {
  "kernelspec": {
   "display_name": "base",
   "language": "python",
   "name": "python3"
  },
  "language_info": {
   "codemirror_mode": {
    "name": "ipython",
    "version": 3
   },
   "file_extension": ".py",
   "mimetype": "text/x-python",
   "name": "python",
   "nbconvert_exporter": "python",
   "pygments_lexer": "ipython3",
   "version": "3.12.4"
  }
 },
 "nbformat": 4,
 "nbformat_minor": 2
}
